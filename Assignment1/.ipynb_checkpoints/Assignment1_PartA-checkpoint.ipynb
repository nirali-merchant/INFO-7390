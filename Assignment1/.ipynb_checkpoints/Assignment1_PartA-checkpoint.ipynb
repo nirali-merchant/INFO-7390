{
 "cells": [
  {
   "cell_type": "markdown",
   "metadata": {},
   "source": [
    "# Data Cleaning"
   ]
  },
  {
   "cell_type": "code",
   "execution_count": 42,
   "metadata": {
    "collapsed": true
   },
   "outputs": [],
   "source": [
    "%matplotlib inline\n",
    "import numpy as np\n",
    "import pandas as pd\n",
    "import matplotlib.pyplot as plt\n",
    "from pandas import Series, DataFrame\n",
    "import seaborn as sns\n",
    "plt.rcParams['figure.figsize'] = (20,15 )\n"
   ]
  },
  {
   "cell_type": "code",
   "execution_count": 228,
   "metadata": {
    "collapsed": true
   },
   "outputs": [],
   "source": [
    "ccdf  = pd.read_csv('cryptoPrices.csv', sep = ',')"
   ]
  },
  {
   "cell_type": "code",
   "execution_count": 229,
   "metadata": {},
   "outputs": [
    {
     "data": {
      "text/html": [
       "<div>\n",
       "<style>\n",
       "    .dataframe thead tr:only-child th {\n",
       "        text-align: right;\n",
       "    }\n",
       "\n",
       "    .dataframe thead th {\n",
       "        text-align: left;\n",
       "    }\n",
       "\n",
       "    .dataframe tbody tr th {\n",
       "        vertical-align: top;\n",
       "    }\n",
       "</style>\n",
       "<table border=\"1\" class=\"dataframe\">\n",
       "  <thead>\n",
       "    <tr style=\"text-align: right;\">\n",
       "      <th></th>\n",
       "      <th>id</th>\n",
       "      <th>Date</th>\n",
       "      <th>Open</th>\n",
       "      <th>High</th>\n",
       "      <th>Low</th>\n",
       "      <th>Close</th>\n",
       "      <th>Volume</th>\n",
       "      <th>Market.Cap</th>\n",
       "      <th>coin</th>\n",
       "      <th>Delta</th>\n",
       "    </tr>\n",
       "  </thead>\n",
       "  <tbody>\n",
       "    <tr>\n",
       "      <th>0</th>\n",
       "      <td>1</td>\n",
       "      <td>1/9/2018</td>\n",
       "      <td>15123.7</td>\n",
       "      <td>15497.5</td>\n",
       "      <td>14424.0</td>\n",
       "      <td>14595.4</td>\n",
       "      <td>16660000000</td>\n",
       "      <td>253935000000</td>\n",
       "      <td>BTC</td>\n",
       "      <td>-0.034932</td>\n",
       "    </tr>\n",
       "    <tr>\n",
       "      <th>1</th>\n",
       "      <td>2</td>\n",
       "      <td>1/8/2018</td>\n",
       "      <td>16476.2</td>\n",
       "      <td>16537.9</td>\n",
       "      <td>14208.2</td>\n",
       "      <td>15170.1</td>\n",
       "      <td>18413900000</td>\n",
       "      <td>276612000000</td>\n",
       "      <td>BTC</td>\n",
       "      <td>-0.079272</td>\n",
       "    </tr>\n",
       "    <tr>\n",
       "      <th>2</th>\n",
       "      <td>3</td>\n",
       "      <td>1/7/2018</td>\n",
       "      <td>17527.3</td>\n",
       "      <td>17579.6</td>\n",
       "      <td>16087.7</td>\n",
       "      <td>16477.6</td>\n",
       "      <td>15866000000</td>\n",
       "      <td>294222000000</td>\n",
       "      <td>BTC</td>\n",
       "      <td>-0.059889</td>\n",
       "    </tr>\n",
       "    <tr>\n",
       "      <th>3</th>\n",
       "      <td>4</td>\n",
       "      <td>1/6/2018</td>\n",
       "      <td>17462.1</td>\n",
       "      <td>17712.4</td>\n",
       "      <td>16764.6</td>\n",
       "      <td>17527.0</td>\n",
       "      <td>18314600000</td>\n",
       "      <td>293091000000</td>\n",
       "      <td>BTC</td>\n",
       "      <td>0.003717</td>\n",
       "    </tr>\n",
       "    <tr>\n",
       "      <th>4</th>\n",
       "      <td>5</td>\n",
       "      <td>1/5/2018</td>\n",
       "      <td>15477.2</td>\n",
       "      <td>17705.2</td>\n",
       "      <td>15202.8</td>\n",
       "      <td>17429.5</td>\n",
       "      <td>23840900000</td>\n",
       "      <td>259748000000</td>\n",
       "      <td>BTC</td>\n",
       "      <td>0.126140</td>\n",
       "    </tr>\n",
       "  </tbody>\n",
       "</table>\n",
       "</div>"
      ],
      "text/plain": [
       "   id      Date     Open     High      Low    Close       Volume  \\\n",
       "0   1  1/9/2018  15123.7  15497.5  14424.0  14595.4  16660000000   \n",
       "1   2  1/8/2018  16476.2  16537.9  14208.2  15170.1  18413900000   \n",
       "2   3  1/7/2018  17527.3  17579.6  16087.7  16477.6  15866000000   \n",
       "3   4  1/6/2018  17462.1  17712.4  16764.6  17527.0  18314600000   \n",
       "4   5  1/5/2018  15477.2  17705.2  15202.8  17429.5  23840900000   \n",
       "\n",
       "     Market.Cap coin     Delta  \n",
       "0  253935000000  BTC -0.034932  \n",
       "1  276612000000  BTC -0.079272  \n",
       "2  294222000000  BTC -0.059889  \n",
       "3  293091000000  BTC  0.003717  \n",
       "4  259748000000  BTC  0.126140  "
      ]
     },
     "execution_count": 229,
     "metadata": {},
     "output_type": "execute_result"
    }
   ],
   "source": [
    "ccdf.head()"
   ]
  },
  {
   "cell_type": "markdown",
   "metadata": {},
   "source": [
    "Identifying null values"
   ]
  },
  {
   "cell_type": "code",
   "execution_count": 230,
   "metadata": {},
   "outputs": [
    {
     "data": {
      "text/plain": [
       "id              0\n",
       "Date            1\n",
       "Open          176\n",
       "High          189\n",
       "Low           165\n",
       "Close         176\n",
       "Volume          0\n",
       "Market.Cap      0\n",
       "coin            0\n",
       "Delta         183\n",
       "dtype: int64"
      ]
     },
     "execution_count": 230,
     "metadata": {},
     "output_type": "execute_result"
    }
   ],
   "source": [
    "ccdf.isnull().sum()"
   ]
  },
  {
   "cell_type": "markdown",
   "metadata": {},
   "source": [
    "There are no null values in the data"
   ]
  },
  {
   "cell_type": "code",
   "execution_count": 231,
   "metadata": {},
   "outputs": [
    {
     "name": "stdout",
     "output_type": "stream",
     "text": [
      "<class 'pandas.core.frame.DataFrame'>\n",
      "RangeIndex: 9226 entries, 0 to 9225\n",
      "Data columns (total 10 columns):\n",
      "id            9226 non-null int64\n",
      "Date          9225 non-null object\n",
      "Open          9050 non-null float64\n",
      "High          9037 non-null float64\n",
      "Low           9061 non-null float64\n",
      "Close         9050 non-null float64\n",
      "Volume        9226 non-null object\n",
      "Market.Cap    9226 non-null object\n",
      "coin          9226 non-null object\n",
      "Delta         9043 non-null float64\n",
      "dtypes: float64(5), int64(1), object(4)\n",
      "memory usage: 720.9+ KB\n"
     ]
    }
   ],
   "source": [
    "ccdf.info()"
   ]
  },
  {
   "cell_type": "markdown",
   "metadata": {},
   "source": [
    "Identifying placeholder data"
   ]
  },
  {
   "cell_type": "code",
   "execution_count": 232,
   "metadata": {},
   "outputs": [
    {
     "data": {
      "text/html": [
       "<div>\n",
       "<style>\n",
       "    .dataframe thead tr:only-child th {\n",
       "        text-align: right;\n",
       "    }\n",
       "\n",
       "    .dataframe thead th {\n",
       "        text-align: left;\n",
       "    }\n",
       "\n",
       "    .dataframe tbody tr th {\n",
       "        vertical-align: top;\n",
       "    }\n",
       "</style>\n",
       "<table border=\"1\" class=\"dataframe\">\n",
       "  <thead>\n",
       "    <tr style=\"text-align: right;\">\n",
       "      <th></th>\n",
       "      <th>id</th>\n",
       "      <th>Date</th>\n",
       "      <th>Open</th>\n",
       "      <th>High</th>\n",
       "      <th>Low</th>\n",
       "      <th>Close</th>\n",
       "      <th>Volume</th>\n",
       "      <th>Market.Cap</th>\n",
       "      <th>coin</th>\n",
       "      <th>Delta</th>\n",
       "    </tr>\n",
       "  </thead>\n",
       "  <tbody>\n",
       "  </tbody>\n",
       "</table>\n",
       "</div>"
      ],
      "text/plain": [
       "Empty DataFrame\n",
       "Columns: [id, Date, Open, High, Low, Close, Volume, Market.Cap, coin, Delta]\n",
       "Index: []"
      ]
     },
     "execution_count": 232,
     "metadata": {},
     "output_type": "execute_result"
    }
   ],
   "source": [
    "ccdf.loc[ccdf['Open'] == 0]"
   ]
  },
  {
   "cell_type": "code",
   "execution_count": 233,
   "metadata": {},
   "outputs": [
    {
     "data": {
      "text/html": [
       "<div>\n",
       "<style>\n",
       "    .dataframe thead tr:only-child th {\n",
       "        text-align: right;\n",
       "    }\n",
       "\n",
       "    .dataframe thead th {\n",
       "        text-align: left;\n",
       "    }\n",
       "\n",
       "    .dataframe tbody tr th {\n",
       "        vertical-align: top;\n",
       "    }\n",
       "</style>\n",
       "<table border=\"1\" class=\"dataframe\">\n",
       "  <thead>\n",
       "    <tr style=\"text-align: right;\">\n",
       "      <th></th>\n",
       "      <th>id</th>\n",
       "      <th>Date</th>\n",
       "      <th>Open</th>\n",
       "      <th>High</th>\n",
       "      <th>Low</th>\n",
       "      <th>Close</th>\n",
       "      <th>Volume</th>\n",
       "      <th>Market.Cap</th>\n",
       "      <th>coin</th>\n",
       "      <th>Delta</th>\n",
       "    </tr>\n",
       "  </thead>\n",
       "  <tbody>\n",
       "  </tbody>\n",
       "</table>\n",
       "</div>"
      ],
      "text/plain": [
       "Empty DataFrame\n",
       "Columns: [id, Date, Open, High, Low, Close, Volume, Market.Cap, coin, Delta]\n",
       "Index: []"
      ]
     },
     "execution_count": 233,
     "metadata": {},
     "output_type": "execute_result"
    }
   ],
   "source": [
    "ccdf.loc[ccdf['Close'] == 0]"
   ]
  },
  {
   "cell_type": "code",
   "execution_count": 234,
   "metadata": {},
   "outputs": [
    {
     "data": {
      "text/html": [
       "<div>\n",
       "<style>\n",
       "    .dataframe thead tr:only-child th {\n",
       "        text-align: right;\n",
       "    }\n",
       "\n",
       "    .dataframe thead th {\n",
       "        text-align: left;\n",
       "    }\n",
       "\n",
       "    .dataframe tbody tr th {\n",
       "        vertical-align: top;\n",
       "    }\n",
       "</style>\n",
       "<table border=\"1\" class=\"dataframe\">\n",
       "  <thead>\n",
       "    <tr style=\"text-align: right;\">\n",
       "      <th></th>\n",
       "      <th>id</th>\n",
       "      <th>Date</th>\n",
       "      <th>Open</th>\n",
       "      <th>High</th>\n",
       "      <th>Low</th>\n",
       "      <th>Close</th>\n",
       "      <th>Volume</th>\n",
       "      <th>Market.Cap</th>\n",
       "      <th>coin</th>\n",
       "      <th>Delta</th>\n",
       "    </tr>\n",
       "  </thead>\n",
       "  <tbody>\n",
       "  </tbody>\n",
       "</table>\n",
       "</div>"
      ],
      "text/plain": [
       "Empty DataFrame\n",
       "Columns: [id, Date, Open, High, Low, Close, Volume, Market.Cap, coin, Delta]\n",
       "Index: []"
      ]
     },
     "execution_count": 234,
     "metadata": {},
     "output_type": "execute_result"
    }
   ],
   "source": [
    "ccdf.loc[ccdf['High'] == 0]"
   ]
  },
  {
   "cell_type": "code",
   "execution_count": 235,
   "metadata": {},
   "outputs": [
    {
     "data": {
      "text/html": [
       "<div>\n",
       "<style>\n",
       "    .dataframe thead tr:only-child th {\n",
       "        text-align: right;\n",
       "    }\n",
       "\n",
       "    .dataframe thead th {\n",
       "        text-align: left;\n",
       "    }\n",
       "\n",
       "    .dataframe tbody tr th {\n",
       "        vertical-align: top;\n",
       "    }\n",
       "</style>\n",
       "<table border=\"1\" class=\"dataframe\">\n",
       "  <thead>\n",
       "    <tr style=\"text-align: right;\">\n",
       "      <th></th>\n",
       "      <th>id</th>\n",
       "      <th>Date</th>\n",
       "      <th>Open</th>\n",
       "      <th>High</th>\n",
       "      <th>Low</th>\n",
       "      <th>Close</th>\n",
       "      <th>Volume</th>\n",
       "      <th>Market.Cap</th>\n",
       "      <th>coin</th>\n",
       "      <th>Delta</th>\n",
       "    </tr>\n",
       "  </thead>\n",
       "  <tbody>\n",
       "  </tbody>\n",
       "</table>\n",
       "</div>"
      ],
      "text/plain": [
       "Empty DataFrame\n",
       "Columns: [id, Date, Open, High, Low, Close, Volume, Market.Cap, coin, Delta]\n",
       "Index: []"
      ]
     },
     "execution_count": 235,
     "metadata": {},
     "output_type": "execute_result"
    }
   ],
   "source": [
    "ccdf.loc[ccdf['Low'] == 0]"
   ]
  },
  {
   "cell_type": "code",
   "execution_count": 236,
   "metadata": {},
   "outputs": [
    {
     "data": {
      "text/plain": [
       "631"
      ]
     },
     "execution_count": 236,
     "metadata": {},
     "output_type": "execute_result"
    }
   ],
   "source": [
    "len(ccdf.loc[ccdf['Volume'] == '-'])"
   ]
  },
  {
   "cell_type": "code",
   "execution_count": 237,
   "metadata": {},
   "outputs": [
    {
     "data": {
      "text/plain": [
       "125"
      ]
     },
     "execution_count": 237,
     "metadata": {},
     "output_type": "execute_result"
    }
   ],
   "source": [
    "len(ccdf.loc[ccdf['Market.Cap'] == '-'])"
   ]
  },
  {
   "cell_type": "markdown",
   "metadata": {},
   "source": [
    "Drop rows with missing data and placeholder data"
   ]
  },
  {
   "cell_type": "code",
   "execution_count": 238,
   "metadata": {},
   "outputs": [],
   "source": [
    "ccdf = ccdf.dropna(thresh = 5)"
   ]
  },
  {
   "cell_type": "code",
   "execution_count": 239,
   "metadata": {},
   "outputs": [
    {
     "name": "stdout",
     "output_type": "stream",
     "text": [
      "<class 'pandas.core.frame.DataFrame'>\n",
      "Int64Index: 9037 entries, 0 to 9074\n",
      "Data columns (total 10 columns):\n",
      "id            9037 non-null int64\n",
      "Date          9037 non-null object\n",
      "Open          9037 non-null float64\n",
      "High          9037 non-null float64\n",
      "Low           9037 non-null float64\n",
      "Close         9037 non-null float64\n",
      "Volume        9037 non-null object\n",
      "Market.Cap    9037 non-null object\n",
      "coin          9037 non-null object\n",
      "Delta         9037 non-null float64\n",
      "dtypes: float64(5), int64(1), object(4)\n",
      "memory usage: 776.6+ KB\n"
     ]
    }
   ],
   "source": [
    "ccdf.info()"
   ]
  },
  {
   "cell_type": "code",
   "execution_count": 240,
   "metadata": {},
   "outputs": [
    {
     "data": {
      "text/html": [
       "<div>\n",
       "<style>\n",
       "    .dataframe thead tr:only-child th {\n",
       "        text-align: right;\n",
       "    }\n",
       "\n",
       "    .dataframe thead th {\n",
       "        text-align: left;\n",
       "    }\n",
       "\n",
       "    .dataframe tbody tr th {\n",
       "        vertical-align: top;\n",
       "    }\n",
       "</style>\n",
       "<table border=\"1\" class=\"dataframe\">\n",
       "  <thead>\n",
       "    <tr style=\"text-align: right;\">\n",
       "      <th></th>\n",
       "      <th>id</th>\n",
       "      <th>Date</th>\n",
       "      <th>Open</th>\n",
       "      <th>High</th>\n",
       "      <th>Low</th>\n",
       "      <th>Close</th>\n",
       "      <th>Volume</th>\n",
       "      <th>Market.Cap</th>\n",
       "      <th>coin</th>\n",
       "      <th>Delta</th>\n",
       "    </tr>\n",
       "  </thead>\n",
       "  <tbody>\n",
       "  </tbody>\n",
       "</table>\n",
       "</div>"
      ],
      "text/plain": [
       "Empty DataFrame\n",
       "Columns: [id, Date, Open, High, Low, Close, Volume, Market.Cap, coin, Delta]\n",
       "Index: []"
      ]
     },
     "execution_count": 240,
     "metadata": {},
     "output_type": "execute_result"
    }
   ],
   "source": [
    "ccdf.loc[ccdf['Date'].isnull() == True]"
   ]
  },
  {
   "cell_type": "code",
   "execution_count": 241,
   "metadata": {
    "collapsed": true
   },
   "outputs": [],
   "source": [
    "ccdf = ccdf.drop(ccdf.loc[ccdf['Date'].isnull() == True].index)"
   ]
  },
  {
   "cell_type": "code",
   "execution_count": 242,
   "metadata": {},
   "outputs": [
    {
     "data": {
      "text/html": [
       "<div>\n",
       "<style>\n",
       "    .dataframe thead tr:only-child th {\n",
       "        text-align: right;\n",
       "    }\n",
       "\n",
       "    .dataframe thead th {\n",
       "        text-align: left;\n",
       "    }\n",
       "\n",
       "    .dataframe tbody tr th {\n",
       "        vertical-align: top;\n",
       "    }\n",
       "</style>\n",
       "<table border=\"1\" class=\"dataframe\">\n",
       "  <thead>\n",
       "    <tr style=\"text-align: right;\">\n",
       "      <th></th>\n",
       "      <th>id</th>\n",
       "      <th>Date</th>\n",
       "      <th>Open</th>\n",
       "      <th>High</th>\n",
       "      <th>Low</th>\n",
       "      <th>Close</th>\n",
       "      <th>Volume</th>\n",
       "      <th>Market.Cap</th>\n",
       "      <th>coin</th>\n",
       "      <th>Delta</th>\n",
       "    </tr>\n",
       "  </thead>\n",
       "  <tbody>\n",
       "  </tbody>\n",
       "</table>\n",
       "</div>"
      ],
      "text/plain": [
       "Empty DataFrame\n",
       "Columns: [id, Date, Open, High, Low, Close, Volume, Market.Cap, coin, Delta]\n",
       "Index: []"
      ]
     },
     "execution_count": 242,
     "metadata": {},
     "output_type": "execute_result"
    }
   ],
   "source": [
    "ccdf.loc[ccdf['Date'].isnull() == True]"
   ]
  },
  {
   "cell_type": "markdown",
   "metadata": {},
   "source": [
    "Fill missing data with mean values"
   ]
  },
  {
   "cell_type": "code",
   "execution_count": 243,
   "metadata": {
    "collapsed": true
   },
   "outputs": [],
   "source": [
    "ccdf['High'].fillna(ccdf['High'].min(), inplace =True)"
   ]
  },
  {
   "cell_type": "code",
   "execution_count": 244,
   "metadata": {
    "collapsed": true
   },
   "outputs": [],
   "source": [
    "ccdf['Open'].fillna(ccdf['Open'].min(), inplace =True)"
   ]
  },
  {
   "cell_type": "code",
   "execution_count": 245,
   "metadata": {},
   "outputs": [],
   "source": [
    "ccdf['Low'].fillna(ccdf['Low'].min(), inplace =True)"
   ]
  },
  {
   "cell_type": "code",
   "execution_count": 246,
   "metadata": {
    "collapsed": true
   },
   "outputs": [],
   "source": [
    "ccdf['Close'].fillna(ccdf['Close'].min(), inplace =True)"
   ]
  },
  {
   "cell_type": "code",
   "execution_count": 247,
   "metadata": {},
   "outputs": [
    {
     "name": "stdout",
     "output_type": "stream",
     "text": [
      "<class 'pandas.core.frame.DataFrame'>\n",
      "Int64Index: 9037 entries, 0 to 9074\n",
      "Data columns (total 10 columns):\n",
      "id            9037 non-null int64\n",
      "Date          9037 non-null object\n",
      "Open          9037 non-null float64\n",
      "High          9037 non-null float64\n",
      "Low           9037 non-null float64\n",
      "Close         9037 non-null float64\n",
      "Volume        9037 non-null object\n",
      "Market.Cap    9037 non-null object\n",
      "coin          9037 non-null object\n",
      "Delta         9037 non-null float64\n",
      "dtypes: float64(5), int64(1), object(4)\n",
      "memory usage: 776.6+ KB\n"
     ]
    }
   ],
   "source": [
    "ccdf.info()"
   ]
  },
  {
   "cell_type": "code",
   "execution_count": 248,
   "metadata": {},
   "outputs": [
    {
     "data": {
      "text/html": [
       "<div>\n",
       "<style>\n",
       "    .dataframe thead tr:only-child th {\n",
       "        text-align: right;\n",
       "    }\n",
       "\n",
       "    .dataframe thead th {\n",
       "        text-align: left;\n",
       "    }\n",
       "\n",
       "    .dataframe tbody tr th {\n",
       "        vertical-align: top;\n",
       "    }\n",
       "</style>\n",
       "<table border=\"1\" class=\"dataframe\">\n",
       "  <thead>\n",
       "    <tr style=\"text-align: right;\">\n",
       "      <th></th>\n",
       "      <th>id</th>\n",
       "      <th>Date</th>\n",
       "      <th>Open</th>\n",
       "      <th>High</th>\n",
       "      <th>Low</th>\n",
       "      <th>Close</th>\n",
       "      <th>Volume</th>\n",
       "      <th>Market.Cap</th>\n",
       "      <th>coin</th>\n",
       "      <th>Delta</th>\n",
       "    </tr>\n",
       "  </thead>\n",
       "  <tbody>\n",
       "  </tbody>\n",
       "</table>\n",
       "</div>"
      ],
      "text/plain": [
       "Empty DataFrame\n",
       "Columns: [id, Date, Open, High, Low, Close, Volume, Market.Cap, coin, Delta]\n",
       "Index: []"
      ]
     },
     "execution_count": 248,
     "metadata": {},
     "output_type": "execute_result"
    }
   ],
   "source": [
    "ccdf.loc[ccdf['Delta'].isnull() == True]"
   ]
  },
  {
   "cell_type": "code",
   "execution_count": 249,
   "metadata": {
    "collapsed": true
   },
   "outputs": [],
   "source": [
    "ccdf['Delta'].fillna(ccdf['Delta'].max(), inplace =True)"
   ]
  },
  {
   "cell_type": "code",
   "execution_count": 250,
   "metadata": {},
   "outputs": [
    {
     "name": "stdout",
     "output_type": "stream",
     "text": [
      "<class 'pandas.core.frame.DataFrame'>\n",
      "Int64Index: 9037 entries, 0 to 9074\n",
      "Data columns (total 10 columns):\n",
      "id            9037 non-null int64\n",
      "Date          9037 non-null object\n",
      "Open          9037 non-null float64\n",
      "High          9037 non-null float64\n",
      "Low           9037 non-null float64\n",
      "Close         9037 non-null float64\n",
      "Volume        9037 non-null object\n",
      "Market.Cap    9037 non-null object\n",
      "coin          9037 non-null object\n",
      "Delta         9037 non-null float64\n",
      "dtypes: float64(5), int64(1), object(4)\n",
      "memory usage: 776.6+ KB\n"
     ]
    }
   ],
   "source": [
    "ccdf.info()"
   ]
  },
  {
   "cell_type": "code",
   "execution_count": 251,
   "metadata": {},
   "outputs": [
    {
     "data": {
      "text/html": [
       "<div>\n",
       "<style>\n",
       "    .dataframe thead tr:only-child th {\n",
       "        text-align: right;\n",
       "    }\n",
       "\n",
       "    .dataframe thead th {\n",
       "        text-align: left;\n",
       "    }\n",
       "\n",
       "    .dataframe tbody tr th {\n",
       "        vertical-align: top;\n",
       "    }\n",
       "</style>\n",
       "<table border=\"1\" class=\"dataframe\">\n",
       "  <thead>\n",
       "    <tr style=\"text-align: right;\">\n",
       "      <th></th>\n",
       "      <th>id</th>\n",
       "      <th>Date</th>\n",
       "      <th>Open</th>\n",
       "      <th>High</th>\n",
       "      <th>Low</th>\n",
       "      <th>Close</th>\n",
       "      <th>Volume</th>\n",
       "      <th>Market.Cap</th>\n",
       "      <th>coin</th>\n",
       "      <th>Delta</th>\n",
       "    </tr>\n",
       "  </thead>\n",
       "  <tbody>\n",
       "    <tr>\n",
       "      <th>0</th>\n",
       "      <td>1</td>\n",
       "      <td>1/9/2018</td>\n",
       "      <td>15123.7</td>\n",
       "      <td>15497.5</td>\n",
       "      <td>14424.0</td>\n",
       "      <td>14595.4</td>\n",
       "      <td>16660000000</td>\n",
       "      <td>253935000000</td>\n",
       "      <td>BTC</td>\n",
       "      <td>-0.034932</td>\n",
       "    </tr>\n",
       "    <tr>\n",
       "      <th>1</th>\n",
       "      <td>2</td>\n",
       "      <td>1/8/2018</td>\n",
       "      <td>16476.2</td>\n",
       "      <td>16537.9</td>\n",
       "      <td>14208.2</td>\n",
       "      <td>15170.1</td>\n",
       "      <td>18413900000</td>\n",
       "      <td>276612000000</td>\n",
       "      <td>BTC</td>\n",
       "      <td>-0.079272</td>\n",
       "    </tr>\n",
       "    <tr>\n",
       "      <th>2</th>\n",
       "      <td>3</td>\n",
       "      <td>1/7/2018</td>\n",
       "      <td>17527.3</td>\n",
       "      <td>17579.6</td>\n",
       "      <td>16087.7</td>\n",
       "      <td>16477.6</td>\n",
       "      <td>15866000000</td>\n",
       "      <td>294222000000</td>\n",
       "      <td>BTC</td>\n",
       "      <td>-0.059889</td>\n",
       "    </tr>\n",
       "    <tr>\n",
       "      <th>3</th>\n",
       "      <td>4</td>\n",
       "      <td>1/6/2018</td>\n",
       "      <td>17462.1</td>\n",
       "      <td>17712.4</td>\n",
       "      <td>16764.6</td>\n",
       "      <td>17527.0</td>\n",
       "      <td>18314600000</td>\n",
       "      <td>293091000000</td>\n",
       "      <td>BTC</td>\n",
       "      <td>0.003717</td>\n",
       "    </tr>\n",
       "    <tr>\n",
       "      <th>4</th>\n",
       "      <td>5</td>\n",
       "      <td>1/5/2018</td>\n",
       "      <td>15477.2</td>\n",
       "      <td>17705.2</td>\n",
       "      <td>15202.8</td>\n",
       "      <td>17429.5</td>\n",
       "      <td>23840900000</td>\n",
       "      <td>259748000000</td>\n",
       "      <td>BTC</td>\n",
       "      <td>0.126140</td>\n",
       "    </tr>\n",
       "  </tbody>\n",
       "</table>\n",
       "</div>"
      ],
      "text/plain": [
       "   id      Date     Open     High      Low    Close       Volume  \\\n",
       "0   1  1/9/2018  15123.7  15497.5  14424.0  14595.4  16660000000   \n",
       "1   2  1/8/2018  16476.2  16537.9  14208.2  15170.1  18413900000   \n",
       "2   3  1/7/2018  17527.3  17579.6  16087.7  16477.6  15866000000   \n",
       "3   4  1/6/2018  17462.1  17712.4  16764.6  17527.0  18314600000   \n",
       "4   5  1/5/2018  15477.2  17705.2  15202.8  17429.5  23840900000   \n",
       "\n",
       "     Market.Cap coin     Delta  \n",
       "0  253935000000  BTC -0.034932  \n",
       "1  276612000000  BTC -0.079272  \n",
       "2  294222000000  BTC -0.059889  \n",
       "3  293091000000  BTC  0.003717  \n",
       "4  259748000000  BTC  0.126140  "
      ]
     },
     "execution_count": 251,
     "metadata": {},
     "output_type": "execute_result"
    }
   ],
   "source": [
    "ccdf.head()"
   ]
  },
  {
   "cell_type": "markdown",
   "metadata": {},
   "source": [
    "Identify outliers"
   ]
  },
  {
   "cell_type": "code",
   "execution_count": 252,
   "metadata": {},
   "outputs": [
    {
     "data": {
      "text/plain": [
       "<matplotlib.axes._subplots.AxesSubplot at 0x1b602782c18>"
      ]
     },
     "execution_count": 252,
     "metadata": {},
     "output_type": "execute_result"
    },
    {
     "data": {
      "image/png": "[encoded data removed]",
      "text/plain": [
       "<matplotlib.figure.Figure at 0x1b602772860>"
      ]
     },
     "metadata": {},
     "output_type": "display_data"
    }
   ],
   "source": [
    "ccdf.boxplot(['Open', 'Close', 'High', 'Low'])"
   ]
  },
  {
   "cell_type": "code",
   "execution_count": null,
   "metadata": {
    "collapsed": true
   },
   "outputs": [],
   "source": []
  },
  {
   "cell_type": "code",
   "execution_count": null,
   "metadata": {
    "collapsed": true
   },
   "outputs": [],
   "source": []
  },
  {
   "cell_type": "code",
   "execution_count": null,
   "metadata": {
    "collapsed": true
   },
   "outputs": [],
   "source": []
  },
  {
   "cell_type": "code",
   "execution_count": null,
   "metadata": {
    "collapsed": true
   },
   "outputs": [],
   "source": []
  },
  {
   "cell_type": "code",
   "execution_count": null,
   "metadata": {
    "collapsed": true
   },
   "outputs": [],
   "source": []
  },
  {
   "cell_type": "code",
   "execution_count": null,
   "metadata": {
    "collapsed": true
   },
   "outputs": [],
   "source": []
  }
 ],
 "metadata": {
  "kernelspec": {
   "display_name": "Python 3",
   "language": "python",
   "name": "python3"
  },
  "language_info": {
   "codemirror_mode": {
    "name": "ipython",
    "version": 3
   },
   "file_extension": ".py",
   "mimetype": "text/x-python",
   "name": "python",
   "nbconvert_exporter": "python",
   "pygments_lexer": "ipython3",
   "version": "3.6.3"
  }
 },
 "nbformat": 4,
 "nbformat_minor": 2
}
