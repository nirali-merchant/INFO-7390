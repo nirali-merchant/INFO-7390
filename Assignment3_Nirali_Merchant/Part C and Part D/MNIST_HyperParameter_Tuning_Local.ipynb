{
 "cells": [
  {
   "cell_type": "markdown",
   "metadata": {},
   "source": [
    "# Hyperparameter tuning"
   ]
  },
  {
   "cell_type": "code",
   "execution_count": null,
   "metadata": {},
   "outputs": [],
   "source": [
    "import tensorflow as tf\n",
    "import matplotlib.pyplot as plt\n",
    "%matplotlib inline"
   ]
  },
  {
   "cell_type": "code",
   "execution_count": 2,
   "metadata": {},
   "outputs": [
    {
     "name": "stderr",
     "output_type": "stream",
     "text": [
      "/home/nirali/anaconda3/lib/python3.6/site-packages/h5py/__init__.py:36: FutureWarning: Conversion of the second argument of issubdtype from `float` to `np.floating` is deprecated. In future, it will be treated as `np.float64 == np.dtype(float).type`.\n",
      "  from ._conv import register_converters as _register_converters\n"
     ]
    }
   ],
   "source": [
    "from tensorflow.examples.tutorials.mnist import input_data"
   ]
  },
  {
   "cell_type": "code",
   "execution_count": 3,
   "metadata": {},
   "outputs": [],
   "source": [
    "from time import time"
   ]
  },
  {
   "cell_type": "markdown",
   "metadata": {},
   "source": [
    "# Starting the time "
   ]
  },
  {
   "cell_type": "code",
   "execution_count": 4,
   "metadata": {},
   "outputs": [],
   "source": [
    "tick = time()"
   ]
  },
  {
   "cell_type": "markdown",
   "metadata": {},
   "source": [
    "# Importing MNIST database"
   ]
  },
  {
   "cell_type": "code",
   "execution_count": 5,
   "metadata": {
    "scrolled": true
   },
   "outputs": [
    {
     "name": "stdout",
     "output_type": "stream",
     "text": [
      "Successfully downloaded train-images-idx3-ubyte.gz 9912422 bytes.\n",
      "Extracting /tmp/data/train-images-idx3-ubyte.gz\n",
      "Successfully downloaded train-labels-idx1-ubyte.gz 28881 bytes.\n",
      "Extracting /tmp/data/train-labels-idx1-ubyte.gz\n",
      "Successfully downloaded t10k-images-idx3-ubyte.gz 1648877 bytes.\n",
      "Extracting /tmp/data/t10k-images-idx3-ubyte.gz\n",
      "Successfully downloaded t10k-labels-idx1-ubyte.gz 4542 bytes.\n",
      "Extracting /tmp/data/t10k-labels-idx1-ubyte.gz\n"
     ]
    }
   ],
   "source": [
    "mnist  = input_data.read_data_sets(\"/tmp/data\",one_hot =True)"
   ]
  },
  {
   "cell_type": "code",
   "execution_count": 6,
   "metadata": {},
   "outputs": [
    {
     "data": {
      "text/plain": [
       "tensorflow.contrib.learn.python.learn.datasets.base.Datasets"
      ]
     },
     "execution_count": 6,
     "metadata": {},
     "output_type": "execute_result"
    }
   ],
   "source": [
    "type(mnist)"
   ]
  },
  {
   "cell_type": "code",
   "execution_count": 7,
   "metadata": {},
   "outputs": [
    {
     "data": {
      "text/plain": [
       "(55000, 784)"
      ]
     },
     "execution_count": 7,
     "metadata": {},
     "output_type": "execute_result"
    }
   ],
   "source": [
    "mnist.train.images.shape"
   ]
  },
  {
   "cell_type": "code",
   "execution_count": 8,
   "metadata": {},
   "outputs": [],
   "source": [
    "sample  = mnist.train.images[2].reshape(28,28)"
   ]
  },
  {
   "cell_type": "code",
   "execution_count": 9,
   "metadata": {},
   "outputs": [
    {
     "data": {
      "text/plain": [
       "<matplotlib.image.AxesImage at 0x7fd205d685c0>"
      ]
     },
     "execution_count": 9,
     "metadata": {},
     "output_type": "execute_result"
    },
    {
     "data": {
      "image/png": "[encoded data removed]",
      "text/plain": [
       "<matplotlib.figure.Figure at 0x7fd209668320>"
      ]
     },
     "metadata": {},
     "output_type": "display_data"
    }
   ],
   "source": [
    "plt.imshow(sample,cmap ='Greys')"
   ]
  },
  {
   "cell_type": "code",
   "execution_count": 10,
   "metadata": {},
   "outputs": [],
   "source": [
    "batch_size = 100\n",
    "n_classes = 10\n",
    "n_samples = mnist.train.num_examples\n",
    "n_input  = 784\n",
    "n_output =10"
   ]
  },
  {
   "cell_type": "markdown",
   "metadata": {},
   "source": [
    "# Defining a Multilayer Perceptron"
   ]
  },
  {
   "cell_type": "code",
   "execution_count": 12,
   "metadata": {},
   "outputs": [],
   "source": [
    "def multilayer_perceptron(x,weights,biases):\n",
    "    \n",
    "    '''\n",
    "    x:Placeholder for data input\n",
    "    weights : dictionary for weights\n",
    "    biases : dict of bias values\n",
    "    '''\n",
    "    #First hidden Layer activation RELU activation \n",
    "    #x*w + bias\n",
    "    layer_1 = tf.add(tf.matmul(x,weights['h1']),biases['b1'])\n",
    "    # RELU(x*w+bias) -> f(x) = max(0,x)\n",
    "    layer_1 = tf.nn.relu(layer_1) \n",
    "    \n",
    "    \n",
    "    #Second hidden layer\n",
    "    layer_2 = tf.add(tf.matmul(layer_1,weights['h2']),biases['b2'])\n",
    "    layer_2 = tf.nn.relu(layer_2) \n",
    "    \n",
    "    #Output layer\n",
    "    out_layer = tf.matmul(layer_2,weights['out']) + biases['out']\n",
    "    \n",
    "    return out_layer"
   ]
  },
  {
   "cell_type": "code",
   "execution_count": 13,
   "metadata": {},
   "outputs": [],
   "source": [
    "sess = tf.InteractiveSession()"
   ]
  },
  {
   "cell_type": "markdown",
   "metadata": {},
   "source": [
    "# Defining a function which loops over varying learning rates and number of neurons in hidden layer"
   ]
  },
  {
   "cell_type": "code",
   "execution_count": 14,
   "metadata": {},
   "outputs": [],
   "source": [
    "def model(training_epochs,l,n_hidden_1,n_hidden_2):\n",
    "        \n",
    "        weights= {\n",
    "    'h1': tf.Variable(tf.random_normal([n_input,n_hidden_1])),\n",
    "    'h2': tf.Variable(tf.random_normal([n_hidden_1,n_hidden_2])),\n",
    "    'out': tf.Variable(tf.random_normal([n_hidden_2,n_classes]))\n",
    "        }\n",
    "        \n",
    "        biases= {\n",
    "    'b1': tf.Variable(tf.random_normal([n_hidden_1])),\n",
    "    'b2': tf.Variable(tf.random_normal([n_hidden_2])),\n",
    "    'out': tf.Variable(tf.random_normal([n_classes]))\n",
    "        }\n",
    "        x = tf.placeholder('float',[None,n_input])\n",
    "        y = tf.placeholder('float',[None, n_classes])\n",
    "        pred = multilayer_perceptron(x,weights,biases)\n",
    "        cost = tf.reduce_mean(tf.nn.softmax_cross_entropy_with_logits( logits=pred, labels=y))\n",
    "        optimizer = tf.train.AdamOptimizer(learning_rate=l).minimize(cost)\n",
    "        #initializing variables\n",
    "        init = tf.initialize_all_variables()\n",
    "        sess.run(init)\n",
    "        learning_rate = l\n",
    "        for epoch in range(training_epochs):\n",
    "                #cost\n",
    "            avg_cost= 0.0\n",
    "\n",
    "            total_batch = int(n_samples/batch_size) #55000/100 batches total\n",
    "\n",
    "            for i in range(total_batch):\n",
    "\n",
    "                batch_x,batch_y = mnist.train.next_batch(batch_size)\n",
    "\n",
    "                _,c = sess.run([optimizer,cost],feed_dict={x:batch_x,y:batch_y})\n",
    "\n",
    "                avg_cost += c/total_batch\n",
    "\n",
    "            print(\"Epoch : {}  cost{:4f}\".format(epoch+1,avg_cost ) ) \n",
    "\n",
    "        print(\"Model has completed {} epochs of training\".format(training_epochs))\n",
    "        correct_predictions = tf.equal(tf.argmax(pred,1),tf.argmax(y,1))\n",
    "        correct_predictions = tf.cast(correct_predictions,'float')\n",
    "        accuracy = tf.reduce_mean(correct_predictions)\n",
    "        acc = accuracy.eval({x:mnist.test.images,y:mnist.test.labels})\n",
    "        error = 1 - acc\n",
    "        print(\"Accuracy : {}\".format(acc))\n",
    "        print(\"Error : {}\".format(error))\n",
    "        return error"
   ]
  },
  {
   "cell_type": "code",
   "execution_count": 15,
   "metadata": {},
   "outputs": [],
   "source": [
    "t = mnist.train.next_batch(1)"
   ]
  },
  {
   "cell_type": "code",
   "execution_count": 16,
   "metadata": {},
   "outputs": [],
   "source": [
    "Xsamp , ysamp = t"
   ]
  },
  {
   "cell_type": "code",
   "execution_count": 17,
   "metadata": {},
   "outputs": [
    {
     "data": {
      "text/plain": [
       "<matplotlib.image.AxesImage at 0x7fd205494358>"
      ]
     },
     "execution_count": 17,
     "metadata": {},
     "output_type": "execute_result"
    },
    {
     "data": {
      "image/png": "[encoded data removed]",
      "text/plain": [
       "<matplotlib.figure.Figure at 0x7fd209668240>"
      ]
     },
     "metadata": {},
     "output_type": "display_data"
    }
   ],
   "source": [
    "plt.imshow(Xsamp.reshape(28,28),cmap='Greys')"
   ]
  },
  {
   "cell_type": "code",
   "execution_count": 18,
   "metadata": {},
   "outputs": [
    {
     "data": {
      "text/plain": [
       "array([[1., 0., 0., 0., 0., 0., 0., 0., 0., 0.]])"
      ]
     },
     "execution_count": 18,
     "metadata": {},
     "output_type": "execute_result"
    }
   ],
   "source": [
    "ysamp"
   ]
  },
  {
   "cell_type": "code",
   "execution_count": 19,
   "metadata": {},
   "outputs": [
    {
     "name": "stdout",
     "output_type": "stream",
     "text": [
      "Learning rate : 0.001 \n",
      "Number of neurons in hidden layers : 64 \n",
      "WARNING:tensorflow:From <ipython-input-14-4bc26c534481>:20: initialize_all_variables (from tensorflow.python.ops.variables) is deprecated and will be removed after 2017-03-02.\n",
      "Instructions for updating:\n",
      "Use `tf.global_variables_initializer` instead.\n",
      "Epoch : 1  cost82.041746\n",
      "Epoch : 2  cost17.637320\n",
      "Epoch : 3  cost11.076300\n",
      "Epoch : 4  cost7.965335\n",
      "Epoch : 5  cost6.160257\n",
      "Model has completed 5 epochs of training\n",
      "Accuracy : 0.866100013256073\n",
      "Error : 0.133899986743927\n",
      "Number of neurons in hidden layers : 128 \n",
      "WARNING:tensorflow:From <ipython-input-14-4bc26c534481>:20: initialize_all_variables (from tensorflow.python.ops.variables) is deprecated and will be removed after 2017-03-02.\n",
      "Instructions for updating:\n",
      "Use `tf.global_variables_initializer` instead.\n",
      "Epoch : 1  cost143.664052\n",
      "Epoch : 2  cost27.491447\n",
      "Epoch : 3  cost17.510495\n",
      "Epoch : 4  cost12.686122\n",
      "Epoch : 5  cost9.734096\n",
      "Model has completed 5 epochs of training\n",
      "Accuracy : 0.9017999768257141\n",
      "Error : 0.09820002317428589\n",
      "Number of neurons in hidden layers : 256 \n",
      "WARNING:tensorflow:From <ipython-input-14-4bc26c534481>:20: initialize_all_variables (from tensorflow.python.ops.variables) is deprecated and will be removed after 2017-03-02.\n",
      "Instructions for updating:\n",
      "Use `tf.global_variables_initializer` instead.\n",
      "Epoch : 1  cost178.787398\n",
      "Epoch : 2  cost41.036828\n",
      "Epoch : 3  cost26.311306\n",
      "Epoch : 4  cost18.285633\n",
      "Epoch : 5  cost13.291671\n",
      "Model has completed 5 epochs of training\n",
      "Accuracy : 0.9230999946594238\n",
      "Error : 0.07690000534057617\n",
      "Number of neurons in hidden layers : 512 \n",
      "WARNING:tensorflow:From <ipython-input-14-4bc26c534481>:20: initialize_all_variables (from tensorflow.python.ops.variables) is deprecated and will be removed after 2017-03-02.\n",
      "Instructions for updating:\n",
      "Use `tf.global_variables_initializer` instead.\n",
      "Epoch : 1  cost231.809366\n",
      "Epoch : 2  cost58.641875\n",
      "Epoch : 3  cost34.845287\n",
      "Epoch : 4  cost22.188319\n",
      "Epoch : 5  cost14.710412\n",
      "Model has completed 5 epochs of training\n",
      "Accuracy : 0.939300000667572\n",
      "Error : 0.06069999933242798\n",
      "Number of neurons in hidden layers : 1024 \n",
      "WARNING:tensorflow:From <ipython-input-14-4bc26c534481>:20: initialize_all_variables (from tensorflow.python.ops.variables) is deprecated and will be removed after 2017-03-02.\n",
      "Instructions for updating:\n",
      "Use `tf.global_variables_initializer` instead.\n",
      "Epoch : 1  cost383.377452\n",
      "Epoch : 2  cost94.112438\n",
      "Epoch : 3  cost50.726204\n",
      "Epoch : 4  cost29.653696\n",
      "Epoch : 5  cost18.239968\n",
      "Model has completed 5 epochs of training\n",
      "Accuracy : 0.9537000060081482\n",
      "Error : 0.04629999399185181\n",
      "Learning rate : 0.005 \n",
      "Number of neurons in hidden layers : 64 \n",
      "WARNING:tensorflow:From <ipython-input-14-4bc26c534481>:20: initialize_all_variables (from tensorflow.python.ops.variables) is deprecated and will be removed after 2017-03-02.\n",
      "Instructions for updating:\n",
      "Use `tf.global_variables_initializer` instead.\n",
      "Epoch : 1  cost20.641150\n",
      "Epoch : 2  cost3.773049\n",
      "Epoch : 3  cost2.160096\n",
      "Epoch : 4  cost1.403651\n",
      "Epoch : 5  cost0.998329\n",
      "Model has completed 5 epochs of training\n",
      "Accuracy : 0.9121000170707703\n",
      "Error : 0.08789998292922974\n",
      "Number of neurons in hidden layers : 128 \n",
      "WARNING:tensorflow:From <ipython-input-14-4bc26c534481>:20: initialize_all_variables (from tensorflow.python.ops.variables) is deprecated and will be removed after 2017-03-02.\n",
      "Instructions for updating:\n",
      "Use `tf.global_variables_initializer` instead.\n",
      "Epoch : 1  cost38.067504\n",
      "Epoch : 2  cost6.808013\n",
      "Epoch : 3  cost3.701799\n",
      "Epoch : 4  cost2.384446\n",
      "Epoch : 5  cost1.642514\n",
      "Model has completed 5 epochs of training\n",
      "Accuracy : 0.9305999875068665\n",
      "Error : 0.06940001249313354\n",
      "Number of neurons in hidden layers : 256 \n",
      "WARNING:tensorflow:From <ipython-input-14-4bc26c534481>:20: initialize_all_variables (from tensorflow.python.ops.variables) is deprecated and will be removed after 2017-03-02.\n",
      "Instructions for updating:\n",
      "Use `tf.global_variables_initializer` instead.\n",
      "Epoch : 1  cost63.142779\n",
      "Epoch : 2  cost13.242364\n",
      "Epoch : 3  cost6.983030\n",
      "Epoch : 4  cost4.348382\n",
      "Epoch : 5  cost3.084139\n",
      "Model has completed 5 epochs of training\n",
      "Accuracy : 0.9517999887466431\n",
      "Error : 0.048200011253356934\n",
      "Number of neurons in hidden layers : 512 \n",
      "WARNING:tensorflow:From <ipython-input-14-4bc26c534481>:20: initialize_all_variables (from tensorflow.python.ops.variables) is deprecated and will be removed after 2017-03-02.\n",
      "Instructions for updating:\n",
      "Use `tf.global_variables_initializer` instead.\n",
      "Epoch : 1  cost136.767750\n",
      "Epoch : 2  cost25.192655\n",
      "Epoch : 3  cost13.268706\n",
      "Epoch : 4  cost7.610765\n",
      "Epoch : 5  cost6.524260\n",
      "Model has completed 5 epochs of training\n",
      "Accuracy : 0.9587000012397766\n",
      "Error : 0.04129999876022339\n",
      "Number of neurons in hidden layers : 1024 \n",
      "WARNING:tensorflow:From <ipython-input-14-4bc26c534481>:20: initialize_all_variables (from tensorflow.python.ops.variables) is deprecated and will be removed after 2017-03-02.\n",
      "Instructions for updating:\n",
      "Use `tf.global_variables_initializer` instead.\n",
      "Epoch : 1  cost230.671650\n",
      "Epoch : 2  cost46.297285\n",
      "Epoch : 3  cost21.327270\n",
      "Epoch : 4  cost16.931933\n",
      "Epoch : 5  cost12.120568\n",
      "Model has completed 5 epochs of training\n",
      "Accuracy : 0.963699996471405\n",
      "Error : 0.03630000352859497\n",
      "Learning rate : 0.01 \n",
      "Number of neurons in hidden layers : 64 \n",
      "WARNING:tensorflow:From <ipython-input-14-4bc26c534481>:20: initialize_all_variables (from tensorflow.python.ops.variables) is deprecated and will be removed after 2017-03-02.\n",
      "Instructions for updating:\n",
      "Use `tf.global_variables_initializer` instead.\n",
      "Epoch : 1  cost14.147722\n",
      "Epoch : 2  cost1.326560\n",
      "Epoch : 3  cost0.625411\n",
      "Epoch : 4  cost0.436074\n",
      "Epoch : 5  cost0.346217\n",
      "Model has completed 5 epochs of training\n",
      "Accuracy : 0.9093999862670898\n",
      "Error : 0.09060001373291016\n",
      "Number of neurons in hidden layers : 128 \n",
      "WARNING:tensorflow:From <ipython-input-14-4bc26c534481>:20: initialize_all_variables (from tensorflow.python.ops.variables) is deprecated and will be removed after 2017-03-02.\n",
      "Instructions for updating:\n",
      "Use `tf.global_variables_initializer` instead.\n",
      "Epoch : 1  cost28.442761\n",
      "Epoch : 2  cost4.699208\n",
      "Epoch : 3  cost2.575189\n",
      "Epoch : 4  cost1.657457\n",
      "Epoch : 5  cost1.227401\n",
      "Model has completed 5 epochs of training\n",
      "Accuracy : 0.9333000183105469\n",
      "Error : 0.06669998168945312\n",
      "Number of neurons in hidden layers : 256 \n",
      "WARNING:tensorflow:From <ipython-input-14-4bc26c534481>:20: initialize_all_variables (from tensorflow.python.ops.variables) is deprecated and will be removed after 2017-03-02.\n",
      "Instructions for updating:\n",
      "Use `tf.global_variables_initializer` instead.\n",
      "Epoch : 1  cost45.641068\n",
      "Epoch : 2  cost8.357328\n",
      "Epoch : 3  cost4.445975\n",
      "Epoch : 4  cost3.232089\n",
      "Epoch : 5  cost2.521059\n",
      "Model has completed 5 epochs of training\n",
      "Accuracy : 0.9498000144958496\n",
      "Error : 0.05019998550415039\n",
      "Number of neurons in hidden layers : 512 \n",
      "WARNING:tensorflow:From <ipython-input-14-4bc26c534481>:20: initialize_all_variables (from tensorflow.python.ops.variables) is deprecated and will be removed after 2017-03-02.\n",
      "Instructions for updating:\n",
      "Use `tf.global_variables_initializer` instead.\n",
      "Epoch : 1  cost92.230111\n",
      "Epoch : 2  cost15.266088\n",
      "Epoch : 3  cost7.955654\n",
      "Epoch : 4  cost5.653985\n",
      "Epoch : 5  cost5.400382\n",
      "Model has completed 5 epochs of training\n",
      "Accuracy : 0.9624000191688538\n",
      "Error : 0.03759998083114624\n",
      "Number of neurons in hidden layers : 1024 \n",
      "WARNING:tensorflow:From <ipython-input-14-4bc26c534481>:20: initialize_all_variables (from tensorflow.python.ops.variables) is deprecated and will be removed after 2017-03-02.\n",
      "Instructions for updating:\n",
      "Use `tf.global_variables_initializer` instead.\n",
      "Epoch : 1  cost224.367573\n",
      "Epoch : 2  cost31.590366\n",
      "Epoch : 3  cost18.409522\n",
      "Epoch : 4  cost12.645908\n",
      "Epoch : 5  cost12.162794\n",
      "Model has completed 5 epochs of training\n",
      "Accuracy : 0.9611999988555908\n",
      "Error : 0.03880000114440918\n",
      "Learning rate : 0.05 \n",
      "Number of neurons in hidden layers : 64 \n",
      "WARNING:tensorflow:From <ipython-input-14-4bc26c534481>:20: initialize_all_variables (from tensorflow.python.ops.variables) is deprecated and will be removed after 2017-03-02.\n",
      "Instructions for updating:\n",
      "Use `tf.global_variables_initializer` instead.\n",
      "Epoch : 1  cost5.110197\n",
      "Epoch : 2  cost0.518051\n",
      "Epoch : 3  cost0.353952\n",
      "Epoch : 4  cost0.284404\n",
      "Epoch : 5  cost0.255766\n",
      "Model has completed 5 epochs of training\n",
      "Accuracy : 0.9280999898910522\n",
      "Error : 0.07190001010894775\n",
      "Number of neurons in hidden layers : 128 \n"
     ]
    },
    {
     "name": "stdout",
     "output_type": "stream",
     "text": [
      "WARNING:tensorflow:From <ipython-input-14-4bc26c534481>:20: initialize_all_variables (from tensorflow.python.ops.variables) is deprecated and will be removed after 2017-03-02.\n",
      "Instructions for updating:\n",
      "Use `tf.global_variables_initializer` instead.\n",
      "Epoch : 1  cost12.489694\n",
      "Epoch : 2  cost0.699161\n",
      "Epoch : 3  cost0.320787\n",
      "Epoch : 4  cost0.245774\n",
      "Epoch : 5  cost0.248445\n",
      "Model has completed 5 epochs of training\n",
      "Accuracy : 0.930400013923645\n",
      "Error : 0.06959998607635498\n",
      "Number of neurons in hidden layers : 256 \n",
      "WARNING:tensorflow:From <ipython-input-14-4bc26c534481>:20: initialize_all_variables (from tensorflow.python.ops.variables) is deprecated and will be removed after 2017-03-02.\n",
      "Instructions for updating:\n",
      "Use `tf.global_variables_initializer` instead.\n",
      "Epoch : 1  cost33.897371\n",
      "Epoch : 2  cost0.652649\n",
      "Epoch : 3  cost0.376100\n",
      "Epoch : 4  cost0.299683\n",
      "Epoch : 5  cost0.261743\n",
      "Model has completed 5 epochs of training\n",
      "Accuracy : 0.925000011920929\n",
      "Error : 0.07499998807907104\n",
      "Number of neurons in hidden layers : 512 \n",
      "WARNING:tensorflow:From <ipython-input-14-4bc26c534481>:20: initialize_all_variables (from tensorflow.python.ops.variables) is deprecated and will be removed after 2017-03-02.\n",
      "Instructions for updating:\n",
      "Use `tf.global_variables_initializer` instead.\n",
      "Epoch : 1  cost105.588325\n",
      "Epoch : 2  cost2.280934\n",
      "Epoch : 3  cost0.433203\n",
      "Epoch : 4  cost0.305305\n",
      "Epoch : 5  cost0.294986\n",
      "Model has completed 5 epochs of training\n",
      "Accuracy : 0.9261000156402588\n",
      "Error : 0.07389998435974121\n",
      "Number of neurons in hidden layers : 1024 \n",
      "WARNING:tensorflow:From <ipython-input-14-4bc26c534481>:20: initialize_all_variables (from tensorflow.python.ops.variables) is deprecated and will be removed after 2017-03-02.\n",
      "Instructions for updating:\n",
      "Use `tf.global_variables_initializer` instead.\n",
      "Epoch : 1  cost229.437851\n",
      "Epoch : 2  cost2.865468\n",
      "Epoch : 3  cost0.616746\n",
      "Epoch : 4  cost0.427460\n",
      "Epoch : 5  cost0.347249\n",
      "Model has completed 5 epochs of training\n",
      "Accuracy : 0.9291999936103821\n",
      "Error : 0.07080000638961792\n",
      "Learning rate : 0.1 \n",
      "Number of neurons in hidden layers : 64 \n",
      "WARNING:tensorflow:From <ipython-input-14-4bc26c534481>:20: initialize_all_variables (from tensorflow.python.ops.variables) is deprecated and will be removed after 2017-03-02.\n",
      "Instructions for updating:\n",
      "Use `tf.global_variables_initializer` instead.\n",
      "Epoch : 1  cost4.035415\n",
      "Epoch : 2  cost0.570457\n",
      "Epoch : 3  cost0.515351\n",
      "Epoch : 4  cost0.444664\n",
      "Epoch : 5  cost0.621375\n",
      "Model has completed 5 epochs of training\n",
      "Accuracy : 0.8385999798774719\n",
      "Error : 0.16140002012252808\n",
      "Number of neurons in hidden layers : 128 \n",
      "WARNING:tensorflow:From <ipython-input-14-4bc26c534481>:20: initialize_all_variables (from tensorflow.python.ops.variables) is deprecated and will be removed after 2017-03-02.\n",
      "Instructions for updating:\n",
      "Use `tf.global_variables_initializer` instead.\n",
      "Epoch : 1  cost23.179179\n",
      "Epoch : 2  cost1.231860\n",
      "Epoch : 3  cost0.972858\n",
      "Epoch : 4  cost0.719344\n",
      "Epoch : 5  cost0.592290\n",
      "Model has completed 5 epochs of training\n",
      "Accuracy : 0.8629999756813049\n",
      "Error : 0.13700002431869507\n",
      "Number of neurons in hidden layers : 256 \n",
      "WARNING:tensorflow:From <ipython-input-14-4bc26c534481>:20: initialize_all_variables (from tensorflow.python.ops.variables) is deprecated and will be removed after 2017-03-02.\n",
      "Instructions for updating:\n",
      "Use `tf.global_variables_initializer` instead.\n",
      "Epoch : 1  cost35.407194\n",
      "Epoch : 2  cost0.550922\n",
      "Epoch : 3  cost0.409965\n",
      "Epoch : 4  cost0.342204\n",
      "Epoch : 5  cost0.339445\n",
      "Model has completed 5 epochs of training\n",
      "Accuracy : 0.9136000275611877\n",
      "Error : 0.08639997243881226\n",
      "Number of neurons in hidden layers : 512 \n",
      "WARNING:tensorflow:From <ipython-input-14-4bc26c534481>:20: initialize_all_variables (from tensorflow.python.ops.variables) is deprecated and will be removed after 2017-03-02.\n",
      "Instructions for updating:\n",
      "Use `tf.global_variables_initializer` instead.\n",
      "Epoch : 1  cost116.664607\n",
      "Epoch : 2  cost0.652853\n",
      "Epoch : 3  cost0.542146\n",
      "Epoch : 4  cost0.521443\n",
      "Epoch : 5  cost0.489050\n",
      "Model has completed 5 epochs of training\n",
      "Accuracy : 0.8610000014305115\n",
      "Error : 0.13899999856948853\n",
      "Number of neurons in hidden layers : 1024 \n",
      "WARNING:tensorflow:From <ipython-input-14-4bc26c534481>:20: initialize_all_variables (from tensorflow.python.ops.variables) is deprecated and will be removed after 2017-03-02.\n",
      "Instructions for updating:\n",
      "Use `tf.global_variables_initializer` instead.\n",
      "Epoch : 1  cost382.379563\n",
      "Epoch : 2  cost2.497906\n",
      "Epoch : 3  cost2.492904\n",
      "Epoch : 4  cost2.358685\n",
      "Epoch : 5  cost2.432281\n",
      "Model has completed 5 epochs of training\n",
      "Accuracy : 0.18729999661445618\n",
      "Error : 0.8127000033855438\n"
     ]
    }
   ],
   "source": [
    "import numpy as np\n",
    "import pandas as pd\n",
    "df = pd.DataFrame(columns=['learning_rate','hidden_layer_neurons','error'])\n",
    "learning_rates = np.array([0.001,0.005,0.01,0.05,0.1])\n",
    "hidden_count = np.array([64, 128, 256, 512, 1024])\n",
    "for i in learning_rates:\n",
    "    print(\"Learning rate : {} \".format(i))\n",
    "    for j in hidden_count:\n",
    "        print(\"Number of neurons in hidden layers : {} \".format(j))\n",
    "        error = model(5,i,j,j)\n",
    "        df = df.append({'learning_rate': i,'hidden_layer_neurons':j,'error':error}, ignore_index=True)"
   ]
  },
  {
   "cell_type": "markdown",
   "metadata": {},
   "source": [
    "# Accuracy is highest for learning rate 0.005 and number of neurons 1024"
   ]
  },
  {
   "cell_type": "code",
   "execution_count": 20,
   "metadata": {},
   "outputs": [
    {
     "data": {
      "text/html": [
       "<div>\n",
       "<style scoped>\n",
       "    .dataframe tbody tr th:only-of-type {\n",
       "        vertical-align: middle;\n",
       "    }\n",
       "\n",
       "    .dataframe tbody tr th {\n",
       "        vertical-align: top;\n",
       "    }\n",
       "\n",
       "    .dataframe thead th {\n",
       "        text-align: right;\n",
       "    }\n",
       "</style>\n",
       "<table border=\"1\" class=\"dataframe\">\n",
       "  <thead>\n",
       "    <tr style=\"text-align: right;\">\n",
       "      <th></th>\n",
       "      <th>learning_rate</th>\n",
       "      <th>hidden_layer_neurons</th>\n",
       "      <th>error</th>\n",
       "    </tr>\n",
       "  </thead>\n",
       "  <tbody>\n",
       "    <tr>\n",
       "      <th>0</th>\n",
       "      <td>0.001</td>\n",
       "      <td>64.0</td>\n",
       "      <td>0.1339</td>\n",
       "    </tr>\n",
       "    <tr>\n",
       "      <th>1</th>\n",
       "      <td>0.001</td>\n",
       "      <td>128.0</td>\n",
       "      <td>0.0982</td>\n",
       "    </tr>\n",
       "    <tr>\n",
       "      <th>2</th>\n",
       "      <td>0.001</td>\n",
       "      <td>256.0</td>\n",
       "      <td>0.0769</td>\n",
       "    </tr>\n",
       "    <tr>\n",
       "      <th>3</th>\n",
       "      <td>0.001</td>\n",
       "      <td>512.0</td>\n",
       "      <td>0.0607</td>\n",
       "    </tr>\n",
       "    <tr>\n",
       "      <th>4</th>\n",
       "      <td>0.001</td>\n",
       "      <td>1024.0</td>\n",
       "      <td>0.0463</td>\n",
       "    </tr>\n",
       "    <tr>\n",
       "      <th>5</th>\n",
       "      <td>0.005</td>\n",
       "      <td>64.0</td>\n",
       "      <td>0.0879</td>\n",
       "    </tr>\n",
       "    <tr>\n",
       "      <th>6</th>\n",
       "      <td>0.005</td>\n",
       "      <td>128.0</td>\n",
       "      <td>0.0694</td>\n",
       "    </tr>\n",
       "    <tr>\n",
       "      <th>7</th>\n",
       "      <td>0.005</td>\n",
       "      <td>256.0</td>\n",
       "      <td>0.0482</td>\n",
       "    </tr>\n",
       "    <tr>\n",
       "      <th>8</th>\n",
       "      <td>0.005</td>\n",
       "      <td>512.0</td>\n",
       "      <td>0.0413</td>\n",
       "    </tr>\n",
       "    <tr>\n",
       "      <th>9</th>\n",
       "      <td>0.005</td>\n",
       "      <td>1024.0</td>\n",
       "      <td>0.0363</td>\n",
       "    </tr>\n",
       "    <tr>\n",
       "      <th>10</th>\n",
       "      <td>0.010</td>\n",
       "      <td>64.0</td>\n",
       "      <td>0.0906</td>\n",
       "    </tr>\n",
       "    <tr>\n",
       "      <th>11</th>\n",
       "      <td>0.010</td>\n",
       "      <td>128.0</td>\n",
       "      <td>0.0667</td>\n",
       "    </tr>\n",
       "    <tr>\n",
       "      <th>12</th>\n",
       "      <td>0.010</td>\n",
       "      <td>256.0</td>\n",
       "      <td>0.0502</td>\n",
       "    </tr>\n",
       "    <tr>\n",
       "      <th>13</th>\n",
       "      <td>0.010</td>\n",
       "      <td>512.0</td>\n",
       "      <td>0.0376</td>\n",
       "    </tr>\n",
       "    <tr>\n",
       "      <th>14</th>\n",
       "      <td>0.010</td>\n",
       "      <td>1024.0</td>\n",
       "      <td>0.0388</td>\n",
       "    </tr>\n",
       "    <tr>\n",
       "      <th>15</th>\n",
       "      <td>0.050</td>\n",
       "      <td>64.0</td>\n",
       "      <td>0.0719</td>\n",
       "    </tr>\n",
       "    <tr>\n",
       "      <th>16</th>\n",
       "      <td>0.050</td>\n",
       "      <td>128.0</td>\n",
       "      <td>0.0696</td>\n",
       "    </tr>\n",
       "    <tr>\n",
       "      <th>17</th>\n",
       "      <td>0.050</td>\n",
       "      <td>256.0</td>\n",
       "      <td>0.0750</td>\n",
       "    </tr>\n",
       "    <tr>\n",
       "      <th>18</th>\n",
       "      <td>0.050</td>\n",
       "      <td>512.0</td>\n",
       "      <td>0.0739</td>\n",
       "    </tr>\n",
       "    <tr>\n",
       "      <th>19</th>\n",
       "      <td>0.050</td>\n",
       "      <td>1024.0</td>\n",
       "      <td>0.0708</td>\n",
       "    </tr>\n",
       "    <tr>\n",
       "      <th>20</th>\n",
       "      <td>0.100</td>\n",
       "      <td>64.0</td>\n",
       "      <td>0.1614</td>\n",
       "    </tr>\n",
       "    <tr>\n",
       "      <th>21</th>\n",
       "      <td>0.100</td>\n",
       "      <td>128.0</td>\n",
       "      <td>0.1370</td>\n",
       "    </tr>\n",
       "    <tr>\n",
       "      <th>22</th>\n",
       "      <td>0.100</td>\n",
       "      <td>256.0</td>\n",
       "      <td>0.0864</td>\n",
       "    </tr>\n",
       "    <tr>\n",
       "      <th>23</th>\n",
       "      <td>0.100</td>\n",
       "      <td>512.0</td>\n",
       "      <td>0.1390</td>\n",
       "    </tr>\n",
       "    <tr>\n",
       "      <th>24</th>\n",
       "      <td>0.100</td>\n",
       "      <td>1024.0</td>\n",
       "      <td>0.8127</td>\n",
       "    </tr>\n",
       "  </tbody>\n",
       "</table>\n",
       "</div>"
      ],
      "text/plain": [
       "    learning_rate  hidden_layer_neurons   error\n",
       "0           0.001                  64.0  0.1339\n",
       "1           0.001                 128.0  0.0982\n",
       "2           0.001                 256.0  0.0769\n",
       "3           0.001                 512.0  0.0607\n",
       "4           0.001                1024.0  0.0463\n",
       "5           0.005                  64.0  0.0879\n",
       "6           0.005                 128.0  0.0694\n",
       "7           0.005                 256.0  0.0482\n",
       "8           0.005                 512.0  0.0413\n",
       "9           0.005                1024.0  0.0363\n",
       "10          0.010                  64.0  0.0906\n",
       "11          0.010                 128.0  0.0667\n",
       "12          0.010                 256.0  0.0502\n",
       "13          0.010                 512.0  0.0376\n",
       "14          0.010                1024.0  0.0388\n",
       "15          0.050                  64.0  0.0719\n",
       "16          0.050                 128.0  0.0696\n",
       "17          0.050                 256.0  0.0750\n",
       "18          0.050                 512.0  0.0739\n",
       "19          0.050                1024.0  0.0708\n",
       "20          0.100                  64.0  0.1614\n",
       "21          0.100                 128.0  0.1370\n",
       "22          0.100                 256.0  0.0864\n",
       "23          0.100                 512.0  0.1390\n",
       "24          0.100                1024.0  0.8127"
      ]
     },
     "execution_count": 20,
     "metadata": {},
     "output_type": "execute_result"
    }
   ],
   "source": [
    "df"
   ]
  },
  {
   "cell_type": "code",
   "execution_count": 21,
   "metadata": {},
   "outputs": [
    {
     "data": {
      "text/plain": [
       "<matplotlib.axes._subplots.AxesSubplot at 0x7fd19637f6a0>"
      ]
     },
     "execution_count": 21,
     "metadata": {},
     "output_type": "execute_result"
    },
    {
     "data": {
      "image/png": "[encoded data removed]",
      "text/plain": [
       "<matplotlib.figure.Figure at 0x7fd205d8ad68>"
      ]
     },
     "metadata": {},
     "output_type": "display_data"
    }
   ],
   "source": [
    "df[df.error<0.2].pivot(index='learning_rate',columns='hidden_layer_neurons',values='error').plot()"
   ]
  },
  {
   "cell_type": "code",
   "execution_count": 22,
   "metadata": {},
   "outputs": [
    {
     "data": {
      "text/plain": [
       "array([[0., 0., 0., ..., 1., 0., 0.],\n",
       "       [0., 0., 1., ..., 0., 0., 0.],\n",
       "       [0., 1., 0., ..., 0., 0., 0.],\n",
       "       ...,\n",
       "       [0., 0., 0., ..., 0., 0., 0.],\n",
       "       [0., 0., 0., ..., 0., 0., 0.],\n",
       "       [0., 0., 0., ..., 0., 0., 0.]])"
      ]
     },
     "execution_count": 22,
     "metadata": {},
     "output_type": "execute_result"
    }
   ],
   "source": [
    "mnist.test.labels"
   ]
  },
  {
   "cell_type": "code",
   "execution_count": 23,
   "metadata": {},
   "outputs": [
    {
     "data": {
      "text/plain": [
       "array([[0., 0., 0., ..., 0., 0., 0.],\n",
       "       [0., 0., 0., ..., 0., 0., 0.],\n",
       "       [0., 0., 0., ..., 0., 0., 0.],\n",
       "       ...,\n",
       "       [0., 0., 0., ..., 0., 0., 0.],\n",
       "       [0., 0., 0., ..., 0., 0., 0.],\n",
       "       [0., 0., 0., ..., 0., 0., 0.]], dtype=float32)"
      ]
     },
     "execution_count": 23,
     "metadata": {},
     "output_type": "execute_result"
    }
   ],
   "source": [
    "mnist.test.images"
   ]
  },
  {
   "cell_type": "code",
   "execution_count": 24,
   "metadata": {},
   "outputs": [
    {
     "name": "stdout",
     "output_type": "stream",
     "text": [
      "1667.1559147834778\n"
     ]
    }
   ],
   "source": [
    "tock = time()\n",
    "print(tock - tick)"
   ]
  },
  {
   "cell_type": "code",
   "execution_count": null,
   "metadata": {},
   "outputs": [],
   "source": []
  },
  {
   "cell_type": "markdown",
   "metadata": {},
   "source": [
    "# Running the same on spark takes half the time "
   ]
  },
  {
   "cell_type": "code",
   "execution_count": null,
   "metadata": {},
   "outputs": [],
   "source": []
  }
 ],
 "metadata": {
  "kernelspec": {
   "display_name": "Python 3",
   "language": "python",
   "name": "python3"
  },
  "language_info": {
   "codemirror_mode": {
    "name": "ipython",
    "version": 3
   },
   "file_extension": ".py",
   "mimetype": "text/x-python",
   "name": "python",
   "nbconvert_exporter": "python",
   "pygments_lexer": "ipython3",
   "version": "3.6.4"
  }
 },
 "nbformat": 4,
 "nbformat_minor": 2
}
