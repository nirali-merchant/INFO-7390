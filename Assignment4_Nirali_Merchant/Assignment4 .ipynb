{
 "cells": [
  {
   "cell_type": "markdown",
   "metadata": {},
   "source": [
    "# Fruit Identification Using Keras"
   ]
  },
  {
   "cell_type": "code",
   "execution_count": 1,
   "metadata": {},
   "outputs": [
    {
     "name": "stderr",
     "output_type": "stream",
     "text": [
      "/home/nirali/anaconda3/lib/python3.6/site-packages/h5py/__init__.py:36: FutureWarning: Conversion of the second argument of issubdtype from `float` to `np.floating` is deprecated. In future, it will be treated as `np.float64 == np.dtype(float).type`.\n",
      "  from ._conv import register_converters as _register_converters\n",
      "Using TensorFlow backend.\n"
     ]
    }
   ],
   "source": [
    "import tensorflow as tf\n",
    "from keras.preprocessing.image import ImageDataGenerator, array_to_img, img_to_array, load_img\n",
    "from keras.models import Sequential, optimizers\n",
    "from keras.layers import Conv2D, MaxPooling2D\n",
    "from keras.layers import Activation, Dropout, Flatten, Dense\n",
    "import sys\n",
    "import numpy as np\n",
    "from keras.preprocessing import image\n",
    "import matplotlib.pyplot as plt"
   ]
  },
  {
   "cell_type": "code",
   "execution_count": 2,
   "metadata": {},
   "outputs": [],
   "source": [
    "# Image Augmentation\n",
    "\n",
    "datagen = ImageDataGenerator(\n",
    "        rotation_range=40,\n",
    "        width_shift_range=0.2,\n",
    "        height_shift_range=0.2,\n",
    "        shear_range=0.2,\n",
    "        zoom_range=0.2,\n",
    "        horizontal_flip=True,\n",
    "        fill_mode='nearest')\n",
    "\n",
    "img = load_img('fruits/data/train/Banana/0_100.jpg')  \n",
    "x = img_to_array(img)  \n",
    "x = x.reshape((1,) + x.shape)  \n",
    "\n",
    "i = 0\n",
    "for batch in datagen.flow(x, batch_size=1,\n",
    "                          save_to_dir='fruits/preview', save_prefix='banana', save_format='jpeg'):\n",
    "    i += 1\n",
    "    if i > 20:\n",
    "        break  "
   ]
  },
  {
   "cell_type": "markdown",
   "metadata": {},
   "source": [
    "# Part A Deep Learning model"
   ]
  },
  {
   "cell_type": "code",
   "execution_count": 3,
   "metadata": {},
   "outputs": [],
   "source": [
    "# Building Model with 2 network layer, 1 fully connected layer and Output layer\n",
    "\n",
    "\n",
    "def buildModel(activation,loss, optimizer):\n",
    "    model = Sequential()\n",
    "    model.add(Conv2D(32, (3, 3), input_shape=(100, 100,3), activation = activation))\n",
    "    model.add(MaxPooling2D(pool_size=(2, 2)))\n",
    "    model.add(Dropout(0.25))\n",
    "\n",
    "    model.add(Conv2D(32, (3, 3), activation = activation))\n",
    "    model.add(MaxPooling2D(pool_size = (2, 2)))\n",
    "    model.add(Dropout(0.25))\n",
    "\n",
    "    model.add(Conv2D(64, (3, 3), activation = activation))\n",
    "    model.add(MaxPooling2D(pool_size=(2, 2)))\n",
    "    model.add(Dropout(0.25))\n",
    "\n",
    "    model.add(Flatten())\n",
    "    model.add(Dense(units = 128, activation = activation))\n",
    "    model.add(Dropout(0.5))\n",
    "\n",
    "    model.add(Dense(units = 9, kernel_initializer='zeros', activation = 'softmax'))\n",
    "\n",
    "    model.compile(loss= loss, optimizer= optimizer, metrics=['accuracy'])\n",
    "    return model"
   ]
  },
  {
   "cell_type": "code",
   "execution_count": 4,
   "metadata": {},
   "outputs": [],
   "source": [
    "def buildComplexModel(activation,loss, optimizer):\n",
    "    model = Sequential()\n",
    "    model.add(Conv2D(32, (3, 3), input_shape=(100, 100,3), activation = activation))\n",
    "    model.add(MaxPooling2D(pool_size=(2, 2)))\n",
    "    model.add(Dropout(0.25))\n",
    "\n",
    "    model.add(Conv2D(32, (3, 3), activation = activation))\n",
    "    model.add(MaxPooling2D(pool_size = (2, 2)))\n",
    "    model.add(Dropout(0.25))\n",
    "\n",
    "    model.add(Conv2D(64, (3, 3), activation = activation))\n",
    "    model.add(MaxPooling2D(pool_size=(2, 2)))\n",
    "    model.add(Dropout(0.25))\n",
    "    \n",
    "    model.add(Conv2D(64, (3, 3), activation = activation))\n",
    "    model.add(MaxPooling2D(pool_size=(2, 2)))\n",
    "    model.add(Dropout(0.25))\n",
    "    \n",
    "    model.add(Conv2D(64, (3, 3), activation = activation))\n",
    "    model.add(MaxPooling2D(pool_size=(2, 2)))\n",
    "    model.add(Dropout(0.25))\n",
    "\n",
    "    model.add(Flatten())\n",
    "    model.add(Dense(units = 128, activation = activation))\n",
    "    model.add(Dropout(0.5))\n",
    "\n",
    "    model.add(Dense(units = 9, activation = 'softmax'))\n",
    "\n",
    "    model.compile(loss= loss, optimizer= optimizer, metrics=['accuracy'])\n",
    "    return model"
   ]
  },
  {
   "cell_type": "code",
   "execution_count": 5,
   "metadata": {},
   "outputs": [],
   "source": [
    "model = buildModel('relu','categorical_crossentropy','rmsprop') \n",
    "#model = buildModel('elu','categorical_crossentropy','rmsprop')\n",
    "#model = buildModel('elu','mean_squared_error','rmsprop')\n",
    "#model = buildModel('relu','mean_squared_error','rmsprop')\n",
    "#model = buildModel('relu','categorical_crossentropy','ADAM')\n",
    "#model = buildComplexModel('relu','categorical_crossentropy','ADAM')\n",
    "\n",
    "#model = buildModel('relu','categorical_crossentropy','ADAM')\n",
    "\n",
    "\n"
   ]
  },
  {
   "cell_type": "code",
   "execution_count": 6,
   "metadata": {},
   "outputs": [
    {
     "name": "stdout",
     "output_type": "stream",
     "text": [
      "Found 4169 images belonging to 9 classes.\n",
      "Found 1393 images belonging to 9 classes.\n"
     ]
    }
   ],
   "source": [
    "batch_size = 16\n",
    "\n",
    "# this is the augmentation configuration we will use for training\n",
    "train_datagen = ImageDataGenerator(\n",
    "        rescale=1./255,\n",
    "        shear_range=0.2,\n",
    "        zoom_range=0.2,\n",
    "        horizontal_flip=True)\n",
    "\n",
    "test_datagen = ImageDataGenerator(rescale=1./255)\n",
    "\n",
    "train_generator = train_datagen.flow_from_directory('fruits/data/train',\n",
    "        target_size=(100, 100), \n",
    "        batch_size=batch_size,\n",
    "        class_mode='categorical') \n",
    "\n",
    "# this is a similar generator, for validation data\n",
    "validation_generator = test_datagen.flow_from_directory('fruits/validation',\n",
    "        target_size=(100, 100),\n",
    "        batch_size=batch_size,\n",
    "        class_mode='categorical')"
   ]
  },
  {
   "cell_type": "code",
   "execution_count": 7,
   "metadata": {},
   "outputs": [
    {
     "name": "stdout",
     "output_type": "stream",
     "text": [
      "_________________________________________________________________\n",
      "Layer (type)                 Output Shape              Param #   \n",
      "=================================================================\n",
      "conv2d_1 (Conv2D)            (None, 98, 98, 32)        896       \n",
      "_________________________________________________________________\n",
      "max_pooling2d_1 (MaxPooling2 (None, 49, 49, 32)        0         \n",
      "_________________________________________________________________\n",
      "dropout_1 (Dropout)          (None, 49, 49, 32)        0         \n",
      "_________________________________________________________________\n",
      "conv2d_2 (Conv2D)            (None, 47, 47, 32)        9248      \n",
      "_________________________________________________________________\n",
      "max_pooling2d_2 (MaxPooling2 (None, 23, 23, 32)        0         \n",
      "_________________________________________________________________\n",
      "dropout_2 (Dropout)          (None, 23, 23, 32)        0         \n",
      "_________________________________________________________________\n",
      "conv2d_3 (Conv2D)            (None, 21, 21, 64)        18496     \n",
      "_________________________________________________________________\n",
      "max_pooling2d_3 (MaxPooling2 (None, 10, 10, 64)        0         \n",
      "_________________________________________________________________\n",
      "dropout_3 (Dropout)          (None, 10, 10, 64)        0         \n",
      "_________________________________________________________________\n",
      "flatten_1 (Flatten)          (None, 6400)              0         \n",
      "_________________________________________________________________\n",
      "dense_1 (Dense)              (None, 128)               819328    \n",
      "_________________________________________________________________\n",
      "dropout_4 (Dropout)          (None, 128)               0         \n",
      "_________________________________________________________________\n",
      "dense_2 (Dense)              (None, 9)                 1161      \n",
      "=================================================================\n",
      "Total params: 849,129\n",
      "Trainable params: 849,129\n",
      "Non-trainable params: 0\n",
      "_________________________________________________________________\n"
     ]
    }
   ],
   "source": [
    "model.summary()"
   ]
  },
  {
   "cell_type": "code",
   "execution_count": null,
   "metadata": {},
   "outputs": [],
   "source": []
  },
  {
   "cell_type": "code",
   "execution_count": 8,
   "metadata": {},
   "outputs": [],
   "source": [
    "#fitting the model on training data\n",
    "def fitModel(epochs):\n",
    "    model.fit_generator(train_generator,\n",
    "    steps_per_epoch=4361 // batch_size,\n",
    "    epochs=epochs,\n",
    "    validation_data=validation_generator,\n",
    "    validation_steps=1460 // batch_size)"
   ]
  },
  {
   "cell_type": "code",
   "execution_count": 9,
   "metadata": {},
   "outputs": [
    {
     "name": "stdout",
     "output_type": "stream",
     "text": [
      "Epoch 1/3\n",
      "272/272 [==============================] - 168s 618ms/step - loss: 1.4686 - acc: 0.4109 - val_loss: 0.8073 - val_acc: 0.7529\n",
      "Epoch 2/3\n",
      "272/272 [==============================] - 122s 449ms/step - loss: 0.7330 - acc: 0.7089 - val_loss: 0.5170 - val_acc: 0.8452\n",
      "Epoch 3/3\n",
      "272/272 [==============================] - 167s 614ms/step - loss: 0.4607 - acc: 0.8222 - val_loss: 0.3742 - val_acc: 0.8633\n"
     ]
    }
   ],
   "source": [
    "fitModel(3)"
   ]
  },
  {
   "cell_type": "markdown",
   "metadata": {},
   "source": [
    "The accuracy using RELU with 3 epochs and cost function is categorical_crossentropy and gradient estimation technique is rmsprop 0.8222"
   ]
  },
  {
   "cell_type": "code",
   "execution_count": 12,
   "metadata": {},
   "outputs": [],
   "source": [
    "# testing the model\n",
    "def testModel():\n",
    "    imageId = 1\n",
    "    appleCount = 0\n",
    "    bananCount = 0\n",
    "    apricotCount = 0\n",
    "\n",
    "    fig=plt.figure()\n",
    "\n",
    "    for i in range(11):\n",
    "\n",
    "        y = fig.add_subplot(3,4,i+1)\n",
    "\n",
    "        path = \"fruits/single_prediction/\" + str(imageId) + \"_100.jpg\"\n",
    "        imageId += 1 \n",
    "        test_image = image.load_img(path, target_size = (100, 100))\n",
    "        test_image = image.img_to_array(test_image)\n",
    "\n",
    "        orig = test_image/255\n",
    "        orig_1 = orig\n",
    "\n",
    "        test_image = np.expand_dims(test_image, axis = 0)    \n",
    "        result = model.predict(test_image)\n",
    "    #     print(result[0])\n",
    "        train_generator.class_indices\n",
    "\n",
    "        if result[0][0] or result[0][1] or result[0][2] or result[0][3] or result[0][4] or result[0][5] or result[0][6] == 1:\n",
    "            str_label = 'Apple'\n",
    "            appleCount += 1\n",
    "        elif result[0][7] == 1:\n",
    "            str_label = 'Banana'\n",
    "            apricotCount += 1\n",
    "        else:\n",
    "            str_label = 'Lemon'\n",
    "            bananCount += 1\n",
    "\n",
    "        y.imshow(orig_1)\n",
    "        plt.title(str_label)\n",
    "        y.axes.get_xaxis().set_visible(False)\n",
    "        y.axes.get_yaxis().set_visible(False)\n",
    "    plt.show()"
   ]
  },
  {
   "cell_type": "markdown",
   "metadata": {},
   "source": [
    "# Part B Activation Function"
   ]
  },
  {
   "cell_type": "code",
   "execution_count": 13,
   "metadata": {},
   "outputs": [],
   "source": [
    "model = buildModel('elu','categorical_crossentropy','rmsprop')"
   ]
  },
  {
   "cell_type": "code",
   "execution_count": 14,
   "metadata": {},
   "outputs": [
    {
     "name": "stdout",
     "output_type": "stream",
     "text": [
      "Epoch 1/3\n",
      "272/272 [==============================] - 128s 469ms/step - loss: 1.1178 - acc: 0.5524 - val_loss: 0.8356 - val_acc: 0.7155\n",
      "Epoch 2/3\n",
      "272/272 [==============================] - 152s 558ms/step - loss: 0.5269 - acc: 0.7976 - val_loss: 1.2479 - val_acc: 0.7231\n",
      "Epoch 3/3\n",
      "272/272 [==============================] - 169s 620ms/step - loss: 0.3734 - acc: 0.8652 - val_loss: 0.5175 - val_acc: 0.8286\n"
     ]
    }
   ],
   "source": [
    "fitModel(3)"
   ]
  },
  {
   "cell_type": "markdown",
   "metadata": {},
   "source": [
    "The accuracy using ELU with 3 epochs and cost function is categorical_crossentropy and gradient estimation technique is rmsprop 0.8652"
   ]
  },
  {
   "cell_type": "markdown",
   "metadata": {},
   "source": [
    "# Part C Cost Function"
   ]
  },
  {
   "cell_type": "code",
   "execution_count": 15,
   "metadata": {},
   "outputs": [],
   "source": [
    "model = buildModel('relu','mean_squared_error','rmsprop')"
   ]
  },
  {
   "cell_type": "code",
   "execution_count": 16,
   "metadata": {},
   "outputs": [
    {
     "name": "stdout",
     "output_type": "stream",
     "text": [
      "Epoch 1/3\n",
      "272/272 [==============================] - 136s 501ms/step - loss: 0.0704 - acc: 0.4664 - val_loss: 0.0546 - val_acc: 0.6648\n",
      "Epoch 2/3\n",
      "272/272 [==============================] - 160s 589ms/step - loss: 0.0461 - acc: 0.7118 - val_loss: 0.0329 - val_acc: 0.8314\n",
      "Epoch 3/3\n",
      "272/272 [==============================] - 163s 599ms/step - loss: 0.0269 - acc: 0.8356 - val_loss: 0.0108 - val_acc: 0.9375\n"
     ]
    }
   ],
   "source": [
    "fitModel(3)"
   ]
  },
  {
   "cell_type": "markdown",
   "metadata": {},
   "source": [
    "The accuracy using RELU with 3 epochs and cost function is mean_squared_error and gradient estimation technique is rmsprop 0.8356\n"
   ]
  },
  {
   "cell_type": "code",
   "execution_count": 17,
   "metadata": {},
   "outputs": [],
   "source": [
    "model = buildModel('relu','mean_squared_error','rmsprop')"
   ]
  },
  {
   "cell_type": "code",
   "execution_count": 18,
   "metadata": {},
   "outputs": [
    {
     "name": "stdout",
     "output_type": "stream",
     "text": [
      "Epoch 1/3\n",
      "272/272 [==============================] - 163s 600ms/step - loss: 0.0744 - acc: 0.4237 - val_loss: 0.0619 - val_acc: 0.5219\n",
      "Epoch 2/3\n",
      "272/272 [==============================] - 140s 515ms/step - loss: 0.0431 - acc: 0.7246 - val_loss: 0.0393 - val_acc: 0.7571\n",
      "Epoch 3/3\n",
      "272/272 [==============================] - 143s 525ms/step - loss: 0.0276 - acc: 0.8333 - val_loss: 0.0259 - val_acc: 0.8383\n"
     ]
    }
   ],
   "source": [
    "fitModel(3)"
   ]
  },
  {
   "cell_type": "markdown",
   "metadata": {},
   "source": [
    "The accuracy using ELU with 3 epochs and cost function is mean_squared_error and gradient estimation technique is rmsprop 0.8333- All apples predcted as lemon"
   ]
  },
  {
   "cell_type": "markdown",
   "metadata": {},
   "source": [
    "# Part D Epochs"
   ]
  },
  {
   "cell_type": "code",
   "execution_count": 19,
   "metadata": {},
   "outputs": [],
   "source": [
    "model = buildModel('relu','categorical_crossentropy','rmsprop')"
   ]
  },
  {
   "cell_type": "code",
   "execution_count": 20,
   "metadata": {},
   "outputs": [
    {
     "name": "stdout",
     "output_type": "stream",
     "text": [
      "Epoch 1/10\n",
      "272/272 [==============================] - 143s 526ms/step - loss: 1.2653 - acc: 0.4784 - val_loss: 1.1247 - val_acc: 0.4025\n",
      "Epoch 2/10\n",
      "272/272 [==============================] - 164s 604ms/step - loss: 0.6109 - acc: 0.7653 - val_loss: 0.2981 - val_acc: 0.9181\n",
      "Epoch 3/10\n",
      "272/272 [==============================] - 199s 730ms/step - loss: 0.4181 - acc: 0.8447 - val_loss: 0.4543 - val_acc: 0.7731\n",
      "Epoch 4/10\n",
      "272/272 [==============================] - 175s 643ms/step - loss: 0.3033 - acc: 0.8998 - val_loss: 0.2631 - val_acc: 0.9375\n",
      "Epoch 5/10\n",
      "272/272 [==============================] - 175s 642ms/step - loss: 0.2303 - acc: 0.9265 - val_loss: 0.2092 - val_acc: 0.8966\n",
      "Epoch 6/10\n",
      "272/272 [==============================] - 152s 559ms/step - loss: 0.1777 - acc: 0.9447 - val_loss: 0.2349 - val_acc: 0.9306\n",
      "Epoch 7/10\n",
      "272/272 [==============================] - 162s 595ms/step - loss: 0.1571 - acc: 0.9515 - val_loss: 0.1320 - val_acc: 0.9549\n",
      "Epoch 8/10\n",
      "272/272 [==============================] - 164s 602ms/step - loss: 0.1582 - acc: 0.9619 - val_loss: 0.0601 - val_acc: 0.9806\n",
      "Epoch 9/10\n",
      "272/272 [==============================] - 158s 582ms/step - loss: 0.1347 - acc: 0.9644 - val_loss: 0.2410 - val_acc: 0.9507\n",
      "Epoch 10/10\n",
      "272/272 [==============================] - 157s 576ms/step - loss: 0.1619 - acc: 0.9665 - val_loss: 0.1974 - val_acc: 0.9438\n"
     ]
    }
   ],
   "source": [
    "fitModel(10)"
   ]
  },
  {
   "cell_type": "markdown",
   "metadata": {},
   "source": [
    "The accuracy using RELU with 3 epochs and cost function is categorical_crossentropy and gradient estimation rmsprop technique using number of layers 6 and epochs 10 is 0.96\n"
   ]
  },
  {
   "cell_type": "markdown",
   "metadata": {},
   "source": [
    "# Part E Gradient Estimation"
   ]
  },
  {
   "cell_type": "code",
   "execution_count": 21,
   "metadata": {},
   "outputs": [],
   "source": [
    "model = buildModel('relu','categorical_crossentropy','ADAM')"
   ]
  },
  {
   "cell_type": "code",
   "execution_count": 22,
   "metadata": {},
   "outputs": [
    {
     "name": "stdout",
     "output_type": "stream",
     "text": [
      "Epoch 1/3\n",
      "272/272 [==============================] - 162s 595ms/step - loss: 1.3911 - acc: 0.3964 - val_loss: 0.8237 - val_acc: 0.6107\n",
      "Epoch 2/3\n",
      "272/272 [==============================] - 152s 558ms/step - loss: 0.8324 - acc: 0.6373 - val_loss: 0.4731 - val_acc: 0.8175\n",
      "Epoch 3/3\n",
      "272/272 [==============================] - 152s 560ms/step - loss: 0.5549 - acc: 0.7766 - val_loss: 0.4140 - val_acc: 0.8411\n"
     ]
    }
   ],
   "source": [
    "fitModel(3)"
   ]
  },
  {
   "cell_type": "markdown",
   "metadata": {},
   "source": [
    "The accuracy using RELU with 3 epochs and cost function is categorical_crossentropy and gradient estimation ADAM technique  and epochs 3 is 0.776"
   ]
  },
  {
   "cell_type": "markdown",
   "metadata": {},
   "source": []
  },
  {
   "cell_type": "markdown",
   "metadata": {},
   "source": [
    "# Part F Network Arcitechture"
   ]
  },
  {
   "cell_type": "code",
   "execution_count": 25,
   "metadata": {},
   "outputs": [],
   "source": [
    "model = buildComplexModel('relu','categorical_crossentropy','ADAM')"
   ]
  },
  {
   "cell_type": "code",
   "execution_count": 26,
   "metadata": {},
   "outputs": [
    {
     "name": "stdout",
     "output_type": "stream",
     "text": [
      "Epoch 1/3\n",
      "272/272 [==============================] - 176s 647ms/step - loss: 1.5914 - acc: 0.3371 - val_loss: 0.9393 - val_acc: 0.6988\n",
      "Epoch 2/3\n",
      "272/272 [==============================] - 175s 645ms/step - loss: 0.9018 - acc: 0.6010 - val_loss: 0.8830 - val_acc: 0.5212\n",
      "Epoch 3/3\n",
      "272/272 [==============================] - 164s 603ms/step - loss: 0.6311 - acc: 0.7272 - val_loss: 0.5132 - val_acc: 0.7772\n"
     ]
    }
   ],
   "source": [
    "fitModel(3)"
   ]
  },
  {
   "cell_type": "markdown",
   "metadata": {},
   "source": [
    "The accuracy using RELU with 3 epochs and cost function is categorical_crossentropy and gradient estimation ADAM technique  and layers 6 and epochs 3 is 0.776"
   ]
  },
  {
   "cell_type": "markdown",
   "metadata": {},
   "source": []
  }
 ],
 "metadata": {
  "kernelspec": {
   "display_name": "Python 3",
   "language": "python",
   "name": "python3"
  },
  "language_info": {
   "codemirror_mode": {
    "name": "ipython",
    "version": 3
   },
   "file_extension": ".py",
   "mimetype": "text/x-python",
   "name": "python",
   "nbconvert_exporter": "python",
   "pygments_lexer": "ipython3",
   "version": "3.6.4"
  }
 },
 "nbformat": 4,
 "nbformat_minor": 2
}
